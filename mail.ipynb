{
 "cells": [
  {
   "cell_type": "code",
   "execution_count": 1,
   "id": "fa6da4cf",
   "metadata": {},
   "outputs": [],
   "source": [
    "import re\n",
    "import json\n",
    "import random\n",
    "\n",
    "import smtplib\n",
    "from email.mime.multipart import MIMEMultipart\n",
    "from email.mime.text import MIMEText\n"
   ]
  },
  {
   "cell_type": "code",
   "execution_count": 26,
   "id": "a93435de",
   "metadata": {},
   "outputs": [],
   "source": [
    "class SMTPauthorizer:\n",
    "    def __init__(self, secret, num_len=6):\n",
    "        self.random_number = \"\".join([str(random.randint(1, 9)) for i in range(0, num_len)])\n",
    "        self.re4mail = re.compile(r'([A-Za-z0-9]+[.-_])*[A-Za-z0-9]+@[A-Za-z0-9-]+(\\.[A-Z|a-z]{2,})+')\n",
    "        self.secret = secret\n",
    "        self.last_confirmation_code = None\n",
    "        \n",
    "    def email_is_valid(self, email):\n",
    "        return bool(re.fullmatch(self.re4mail, email))\n",
    "    \n",
    "    def send_confirmation_code(self, email):\n",
    "        message = MIMEMultipart()\n",
    "        message['From'] = self.secret['GM_LOGIN']\n",
    "        message['To'] = email\n",
    "        message['Subject'] = 'auth'\n",
    "        message.attach(MIMEText(self.random_number, 'plain'))\n",
    "        with smtplib.SMTP('smtp.gmail.com', 587) as session:\n",
    "            session.starttls()\n",
    "            session.login(self.secret['GM_LOGIN'], self.secret['GM_PASS'])\n",
    "            text = message.as_string()\n",
    "            session.sendmail(self.secret['GM_LOGIN'], email, text)\n",
    "            session.quit()\n",
    "        self.last_confirmation_code = self.random_number\n",
    "        \n",
    "    def confirm_email(self, code):\n",
    "        assert self.last_confirmation_code, \"First send an email! There is nothing to check here.\"\n",
    "        return code == self.random_number"
   ]
  },
  {
   "cell_type": "code",
   "execution_count": 28,
   "id": "55fb6e76",
   "metadata": {},
   "outputs": [
    {
     "name": "stdout",
     "output_type": "stream",
     "text": [
      "Please enter a confirmation code, that we have sent to you.\n",
      "212342\n",
      "Please enter a confirmation code, that we have sent to you.\n",
      "1232345\n",
      "Please enter a confirmation code, that we have sent to you.\n",
      "333234\n",
      "Please enter a confirmation code, that we have sent to you.\n",
      "851799\n",
      "Email is valid!\n"
     ]
    }
   ],
   "source": [
    "so = SMTPauthorizer(secret)\n",
    "email2confirm = \"example_email@gmail.com\"\n",
    "if so.email_is_valid(email=email2confirm):\n",
    "    so.send_confirmation_code(email=email2confirm)\n",
    "    code = None\n",
    "    while not so.confirm_email(code):\n",
    "        print(\"Please enter a confirmation code, that we have sent to you.\")\n",
    "        code = input()\n",
    "    print(\"Email is valid!\")"
   ]
  }
 ],
 "metadata": {
  "kernelspec": {
   "display_name": "Python 3 (ipykernel)",
   "language": "python",
   "name": "python3"
  },
  "language_info": {
   "codemirror_mode": {
    "name": "ipython",
    "version": 3
   },
   "file_extension": ".py",
   "mimetype": "text/x-python",
   "name": "python",
   "nbconvert_exporter": "python",
   "pygments_lexer": "ipython3",
   "version": "3.10.8"
  }
 },
 "nbformat": 4,
 "nbformat_minor": 5
}
